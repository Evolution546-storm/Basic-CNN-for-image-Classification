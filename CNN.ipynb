{
 "cells": [
  {
   "cell_type": "markdown",
   "metadata": {},
   "source": [
    "## Importing the parameters\n",
    "\n",
    "\n"
   ]
  },
  {
   "cell_type": "code",
   "execution_count": 14,
   "metadata": {},
   "outputs": [],
   "source": [
    "import tensorflow as tf\n",
    "from keras.preprocessing.image import ImageDataGenerator\n"
   ]
  },
  {
   "cell_type": "code",
   "execution_count": 2,
   "metadata": {},
   "outputs": [
    {
     "data": {
      "text/plain": [
       "'2.3.0'"
      ]
     },
     "execution_count": 2,
     "metadata": {},
     "output_type": "execute_result"
    }
   ],
   "source": [
    "tf.__version__"
   ]
  },
  {
   "cell_type": "markdown",
   "metadata": {},
   "source": [
    "## DATA PREPROCESSING"
   ]
  },
  {
   "cell_type": "code",
   "execution_count": 3,
   "metadata": {},
   "outputs": [],
   "source": [
    "train_data = ImageDataGenerator(rescale = 1./255,shear_range = 0.2,zoom_range = 0.2,\n",
    "                                horizontal_flip = True\n",
    "                               )"
   ]
  },
  {
   "cell_type": "code",
   "execution_count": 4,
   "metadata": {},
   "outputs": [
    {
     "name": "stdout",
     "output_type": "stream",
     "text": [
      "Found 8000 images belonging to 2 classes.\n"
     ]
    }
   ],
   "source": [
    "train_set = train_data.flow_from_directory('dataset/training_set',\n",
    "                                                 target_size = (64, 64),\n",
    "                                                 batch_size = 32,\n",
    "                                                 class_mode = 'binary')"
   ]
  },
  {
   "cell_type": "code",
   "execution_count": 5,
   "metadata": {},
   "outputs": [
    {
     "name": "stdout",
     "output_type": "stream",
     "text": [
      "Found 2000 images belonging to 2 classes.\n"
     ]
    }
   ],
   "source": [
    "test_data = ImageDataGenerator(rescale = 1./255)\n",
    "test_set = test_data.flow_from_directory('dataset/test_set',\n",
    "                                            target_size = (64, 64),\n",
    "                                            batch_size = 32,\n",
    "                                            class_mode = 'binary')"
   ]
  },
  {
   "cell_type": "markdown",
   "metadata": {},
   "source": [
    "## Creating the model"
   ]
  },
  {
   "cell_type": "code",
   "execution_count": 6,
   "metadata": {},
   "outputs": [],
   "source": [
    "cnn = tf.keras.models.Sequential()\n",
    "cnn.add(tf.keras.layers.Conv2D(filters = 32 , kernel_size = 2 , activation = 'relu',input_shape = [64,64,3]))"
   ]
  },
  {
   "cell_type": "code",
   "execution_count": 7,
   "metadata": {},
   "outputs": [],
   "source": [
    "cnn.add(tf.keras.layers.MaxPool2D(pool_size = 2 , strides = 2))"
   ]
  },
  {
   "cell_type": "code",
   "execution_count": 8,
   "metadata": {},
   "outputs": [],
   "source": [
    "cnn.add(tf.keras.layers.Conv2D(filters = 32 , kernel_size = 2 , activation = 'relu'))\n",
    "cnn.add(tf.keras.layers.MaxPool2D(pool_size = 2 , strides = 2))"
   ]
  },
  {
   "cell_type": "markdown",
   "metadata": {},
   "source": [
    "## Flattening"
   ]
  },
  {
   "cell_type": "code",
   "execution_count": 9,
   "metadata": {},
   "outputs": [],
   "source": [
    "cnn.add(tf.keras.layers.Flatten())"
   ]
  },
  {
   "cell_type": "markdown",
   "metadata": {},
   "source": [
    "## Fully Connected Layer"
   ]
  },
  {
   "cell_type": "code",
   "execution_count": 10,
   "metadata": {},
   "outputs": [],
   "source": [
    "cnn.add(tf.keras.layers.Dense(units = 128 , activation = 'relu'))\n",
    "\n"
   ]
  },
  {
   "cell_type": "markdown",
   "metadata": {},
   "source": [
    "## Output layer"
   ]
  },
  {
   "cell_type": "code",
   "execution_count": 11,
   "metadata": {},
   "outputs": [],
   "source": [
    "cnn.add(tf.keras.layers.Dense(units = 1 , activation = 'sigmoid'))"
   ]
  },
  {
   "cell_type": "markdown",
   "metadata": {},
   "source": [
    "## Compiling"
   ]
  },
  {
   "cell_type": "code",
   "execution_count": 12,
   "metadata": {},
   "outputs": [],
   "source": [
    "cnn.compile(optimizer = 'adam',loss = 'binary_crossentropy' , metrics = ['accuracy'])"
   ]
  },
  {
   "cell_type": "code",
   "execution_count": 13,
   "metadata": {},
   "outputs": [
    {
     "name": "stdout",
     "output_type": "stream",
     "text": [
      "Epoch 1/25\n",
      "250/250 [==============================] - 97s 388ms/step - loss: 0.6409 - accuracy: 0.6279 - val_loss: 0.6459 - val_accuracy: 0.6420\n",
      "Epoch 2/25\n",
      "250/250 [==============================] - 45s 178ms/step - loss: 0.5753 - accuracy: 0.6974 - val_loss: 0.5737 - val_accuracy: 0.7185\n",
      "Epoch 3/25\n",
      "250/250 [==============================] - 50s 201ms/step - loss: 0.5511 - accuracy: 0.7153 - val_loss: 0.5211 - val_accuracy: 0.7495\n",
      "Epoch 4/25\n",
      "250/250 [==============================] - 51s 205ms/step - loss: 0.5216 - accuracy: 0.7420 - val_loss: 0.5244 - val_accuracy: 0.7525\n",
      "Epoch 5/25\n",
      "250/250 [==============================] - 49s 198ms/step - loss: 0.4957 - accuracy: 0.7555 - val_loss: 0.5299 - val_accuracy: 0.7535\n",
      "Epoch 6/25\n",
      "250/250 [==============================] - 58s 233ms/step - loss: 0.4848 - accuracy: 0.7650 - val_loss: 0.5587 - val_accuracy: 0.7235\n",
      "Epoch 7/25\n",
      "250/250 [==============================] - 48s 192ms/step - loss: 0.4610 - accuracy: 0.7791 - val_loss: 0.4981 - val_accuracy: 0.7615\n",
      "Epoch 8/25\n",
      "250/250 [==============================] - 46s 183ms/step - loss: 0.4549 - accuracy: 0.7837 - val_loss: 0.5086 - val_accuracy: 0.7695\n",
      "Epoch 9/25\n",
      "250/250 [==============================] - 47s 190ms/step - loss: 0.4385 - accuracy: 0.7936 - val_loss: 0.5142 - val_accuracy: 0.7585\n",
      "Epoch 10/25\n",
      "250/250 [==============================] - 54s 216ms/step - loss: 0.4373 - accuracy: 0.7929 - val_loss: 0.4931 - val_accuracy: 0.7740\n",
      "Epoch 11/25\n",
      "250/250 [==============================] - 45s 181ms/step - loss: 0.4091 - accuracy: 0.8099 - val_loss: 0.4781 - val_accuracy: 0.7850\n",
      "Epoch 12/25\n",
      "250/250 [==============================] - 44s 177ms/step - loss: 0.4116 - accuracy: 0.8029 - val_loss: 0.5644 - val_accuracy: 0.7560\n",
      "Epoch 13/25\n",
      "250/250 [==============================] - 45s 181ms/step - loss: 0.4063 - accuracy: 0.8141 - val_loss: 0.4951 - val_accuracy: 0.7785\n",
      "Epoch 14/25\n",
      "250/250 [==============================] - 46s 182ms/step - loss: 0.3866 - accuracy: 0.8235 - val_loss: 0.5723 - val_accuracy: 0.7715\n",
      "Epoch 15/25\n",
      "250/250 [==============================] - 49s 197ms/step - loss: 0.3812 - accuracy: 0.8260 - val_loss: 0.5045 - val_accuracy: 0.7850\n",
      "Epoch 16/25\n",
      "250/250 [==============================] - 46s 185ms/step - loss: 0.3637 - accuracy: 0.8354 - val_loss: 0.4744 - val_accuracy: 0.7860\n",
      "Epoch 17/25\n",
      "250/250 [==============================] - 46s 184ms/step - loss: 0.3503 - accuracy: 0.8443 - val_loss: 0.4917 - val_accuracy: 0.7930\n",
      "Epoch 18/25\n",
      "250/250 [==============================] - 46s 182ms/step - loss: 0.3420 - accuracy: 0.8500 - val_loss: 0.5304 - val_accuracy: 0.7785\n",
      "Epoch 19/25\n",
      "250/250 [==============================] - 45s 182ms/step - loss: 0.3370 - accuracy: 0.8509 - val_loss: 0.5004 - val_accuracy: 0.7910\n",
      "Epoch 20/25\n",
      "250/250 [==============================] - 48s 194ms/step - loss: 0.3264 - accuracy: 0.8565 - val_loss: 0.5015 - val_accuracy: 0.7875\n",
      "Epoch 21/25\n",
      "250/250 [==============================] - 56s 222ms/step - loss: 0.3228 - accuracy: 0.8591 - val_loss: 0.5130 - val_accuracy: 0.7890\n",
      "Epoch 22/25\n",
      "250/250 [==============================] - 59s 234ms/step - loss: 0.3142 - accuracy: 0.8637 - val_loss: 0.5081 - val_accuracy: 0.7900\n",
      "Epoch 23/25\n",
      "250/250 [==============================] - 49s 197ms/step - loss: 0.2955 - accuracy: 0.8729 - val_loss: 0.5626 - val_accuracy: 0.7880\n",
      "Epoch 24/25\n",
      "250/250 [==============================] - 49s 195ms/step - loss: 0.2941 - accuracy: 0.8750 - val_loss: 0.5325 - val_accuracy: 0.7890\n",
      "Epoch 25/25\n",
      "250/250 [==============================] - 49s 196ms/step - loss: 0.2800 - accuracy: 0.8827 - val_loss: 0.5585 - val_accuracy: 0.7900\n"
     ]
    },
    {
     "data": {
      "text/plain": [
       "<tensorflow.python.keras.callbacks.History at 0x1fffdb3d9c8>"
      ]
     },
     "execution_count": 13,
     "metadata": {},
     "output_type": "execute_result"
    }
   ],
   "source": [
    "cnn.fit(x =train_set , validation_data = test_set, epochs = 25)"
   ]
  },
  {
   "cell_type": "code",
   "execution_count": 17,
   "metadata": {},
   "outputs": [],
   "source": [
    "from keras.preprocessing import image"
   ]
  },
  {
   "cell_type": "markdown",
   "metadata": {},
   "source": [
    "## Using the model to Predict a given image"
   ]
  },
  {
   "cell_type": "code",
   "execution_count": 22,
   "metadata": {},
   "outputs": [],
   "source": [
    "test_image = image.load_img('dataset/single_prediction/dogge.JPG' ,target_size = (64,64) )\n",
    "test_image = image.img_to_array(test_image)\n",
    "test_image = np.expand_dims(test_image, axis = 0)\n",
    "result = cnn.predict(test_image/255.0)\n",
    "train_set.class_indices \n",
    "if result[0][0] > 0.5:\n",
    "    pred = 'dog'\n",
    "else:\n",
    "    pred = 'cat'\n"
   ]
  },
  {
   "cell_type": "code",
   "execution_count": 23,
   "metadata": {},
   "outputs": [
    {
     "name": "stdout",
     "output_type": "stream",
     "text": [
      "dog\n"
     ]
    }
   ],
   "source": [
    "print(pred)"
   ]
  },
  {
   "cell_type": "code",
   "execution_count": null,
   "metadata": {},
   "outputs": [],
   "source": []
  }
 ],
 "metadata": {
  "kernelspec": {
   "display_name": "Python 3",
   "language": "python",
   "name": "python3"
  },
  "language_info": {
   "codemirror_mode": {
    "name": "ipython",
    "version": 3
   },
   "file_extension": ".py",
   "mimetype": "text/x-python",
   "name": "python",
   "nbconvert_exporter": "python",
   "pygments_lexer": "ipython3",
   "version": "3.7.9"
  }
 },
 "nbformat": 4,
 "nbformat_minor": 4
}
